{
 "cells": [
  {
   "cell_type": "markdown",
   "id": "f94a861d",
   "metadata": {},
   "source": [
    "#### Working with Time Series Using Pandas"
   ]
  },
  {
   "cell_type": "code",
   "execution_count": 3,
   "id": "982b968b",
   "metadata": {},
   "outputs": [],
   "source": [
    "import pandas as pd\n",
    "import numpy as np\n",
    "import datetime\n",
    "\n",
    "import matplotlib.pyplot as plt\n",
    "\n",
    "import warnings\n",
    "warnings.filterwarnings(\"ignore\")"
   ]
  },
  {
   "cell_type": "markdown",
   "id": "3b6dabf3",
   "metadata": {},
   "source": [
    "###### Date Time Module"
   ]
  },
  {
   "cell_type": "code",
   "execution_count": 4,
   "id": "9e0b6efb",
   "metadata": {},
   "outputs": [
    {
     "data": {
      "text/plain": [
       "datetime.datetime(2000, 1, 1, 0, 0)"
      ]
     },
     "execution_count": 4,
     "metadata": {},
     "output_type": "execute_result"
    }
   ],
   "source": [
    "datetime.datetime(2000,1,1) # passing input (year,month,date ) and output will be (year,month,date,hour,min)"
   ]
  },
  {
   "cell_type": "code",
   "execution_count": 5,
   "id": "a6b72e06",
   "metadata": {},
   "outputs": [
    {
     "data": {
      "text/plain": [
       "datetime.datetime(2000, 12, 1, 0, 0)"
      ]
     },
     "execution_count": 5,
     "metadata": {},
     "output_type": "execute_result"
    }
   ],
   "source": [
    "datetime.datetime.strptime(\"2000/12/1\",\"%Y/%m/%d\")  #used to create dates with different formats"
   ]
  },
  {
   "cell_type": "code",
   "execution_count": 6,
   "id": "d0f7b7a2",
   "metadata": {},
   "outputs": [
    {
     "data": {
      "text/plain": [
       "'2000/12/01'"
      ]
     },
     "execution_count": 6,
     "metadata": {},
     "output_type": "execute_result"
    }
   ],
   "source": [
    "datetime.datetime(2000, 12, 1, 0, 0).strftime(\"%Y/%m/%d\") # another way to create date in different format"
   ]
  },
  {
   "cell_type": "code",
   "execution_count": 7,
   "id": "645bcaa1",
   "metadata": {},
   "outputs": [
    {
     "data": {
      "text/plain": [
       "'2000.12.01'"
      ]
     },
     "execution_count": 7,
     "metadata": {},
     "output_type": "execute_result"
    }
   ],
   "source": [
    "datetime.datetime(2000, 12, 1, 0, 0).strftime(\"%Y.%m.%d\") # another way to create date in different format"
   ]
  },
  {
   "cell_type": "markdown",
   "id": "47769711",
   "metadata": {},
   "source": [
    "###### Pandas for TIme Series"
   ]
  },
  {
   "cell_type": "code",
   "execution_count": 8,
   "id": "edcf1c3c",
   "metadata": {},
   "outputs": [
    {
     "data": {
      "text/plain": [
       "Timestamp('2000-01-09 00:00:00')"
      ]
     },
     "execution_count": 8,
     "metadata": {},
     "output_type": "execute_result"
    }
   ],
   "source": [
    "pd.to_datetime(\"01.09.2000\")  #converted from String to TimeStamp format"
   ]
  },
  {
   "cell_type": "code",
   "execution_count": 9,
   "id": "81bc3a7a",
   "metadata": {},
   "outputs": [
    {
     "data": {
      "text/plain": [
       "Timestamp('2000-12-01 00:00:00')"
      ]
     },
     "execution_count": 9,
     "metadata": {},
     "output_type": "execute_result"
    }
   ],
   "source": [
    "pd.to_datetime(\"2000/12/01\")"
   ]
  },
  {
   "cell_type": "markdown",
   "id": "2c6b7507",
   "metadata": {},
   "source": [
    "###### Pandas TimeStamp Object"
   ]
  },
  {
   "cell_type": "code",
   "execution_count": 10,
   "id": "4dcf82e2",
   "metadata": {},
   "outputs": [],
   "source": [
    "ts=pd.to_datetime(94689000000000)"
   ]
  },
  {
   "cell_type": "code",
   "execution_count": 11,
   "id": "6b19ddfc",
   "metadata": {},
   "outputs": [
    {
     "data": {
      "text/plain": [
       "Timestamp('1970-01-02 02:18:09')"
      ]
     },
     "execution_count": 11,
     "metadata": {},
     "output_type": "execute_result"
    }
   ],
   "source": [
    "ts"
   ]
  },
  {
   "cell_type": "code",
   "execution_count": 12,
   "id": "f56d6e9d",
   "metadata": {},
   "outputs": [
    {
     "data": {
      "text/plain": [
       "(1970, 1, 2, 4)"
      ]
     },
     "execution_count": 12,
     "metadata": {},
     "output_type": "execute_result"
    }
   ],
   "source": [
    "ts.year,ts.month,ts.day,ts.weekday()"
   ]
  },
  {
   "cell_type": "code",
   "execution_count": 13,
   "id": "ffaadb2b",
   "metadata": {},
   "outputs": [],
   "source": [
    "# to create time stamps on our own\n",
    "#instead of timestamp() we can use pd.to_datetime\n",
    "\n",
    "index=[pd.Timestamp(\"2000-01-01\"),pd.Timestamp(\"2000-01-02\"),pd.Timestamp(\"2000-01-03\")]\n",
    "\n",
    "ts=pd.Series(np.random.randn(len(index)),index=index)"
   ]
  },
  {
   "cell_type": "code",
   "execution_count": 14,
   "id": "49708329",
   "metadata": {},
   "outputs": [
    {
     "data": {
      "text/plain": [
       "2000-01-01   -0.181568\n",
       "2000-01-02    0.487595\n",
       "2000-01-03   -0.354745\n",
       "dtype: float64"
      ]
     },
     "execution_count": 14,
     "metadata": {},
     "output_type": "execute_result"
    }
   ],
   "source": [
    "ts"
   ]
  },
  {
   "cell_type": "code",
   "execution_count": 15,
   "id": "c8f7f126",
   "metadata": {},
   "outputs": [
    {
     "data": {
      "text/plain": [
       "DatetimeIndex(['2000-01-01', '2000-01-02', '2000-01-03'], dtype='datetime64[ns]', freq=None)"
      ]
     },
     "execution_count": 15,
     "metadata": {},
     "output_type": "execute_result"
    }
   ],
   "source": [
    "ts.index"
   ]
  },
  {
   "cell_type": "code",
   "execution_count": 16,
   "id": "969afafc",
   "metadata": {},
   "outputs": [],
   "source": [
    "ts=pd.Series(np.random.randn(len(index)),index=[\"2000-01-01\",\"2000-01-02\",\"2000-01-03\"])"
   ]
  },
  {
   "cell_type": "code",
   "execution_count": 17,
   "id": "2768764e",
   "metadata": {},
   "outputs": [
    {
     "data": {
      "text/plain": [
       "Index(['2000-01-01', '2000-01-02', '2000-01-03'], dtype='object')"
      ]
     },
     "execution_count": 17,
     "metadata": {},
     "output_type": "execute_result"
    }
   ],
   "source": [
    "ts.index  #when we use TimeStamp function we got dtype as datetime and when we didn't used it we got dtype as object"
   ]
  },
  {
   "cell_type": "markdown",
   "id": "7a1f25cb",
   "metadata": {},
   "source": [
    "###### Generating Sequence of TimeStamp of fixed Interval"
   ]
  },
  {
   "cell_type": "code",
   "execution_count": 18,
   "id": "3672cef7",
   "metadata": {},
   "outputs": [
    {
     "data": {
      "text/plain": [
       "DatetimeIndex(['1998-05-03 00:00:00', '1998-05-03 01:00:00',\n",
       "               '1998-05-03 02:00:00'],\n",
       "              dtype='datetime64[ns]', freq='H')"
      ]
     },
     "execution_count": 18,
     "metadata": {},
     "output_type": "execute_result"
    }
   ],
   "source": [
    "pd.date_range(start=\"1998-05-03\",periods=3,freq='H') #period means how many dates we want to generate\n",
    "#frequency means hourly,daily,weekly"
   ]
  },
  {
   "cell_type": "code",
   "execution_count": 19,
   "id": "02a089ea",
   "metadata": {},
   "outputs": [
    {
     "data": {
      "text/plain": [
       "DatetimeIndex(['1998-05-03 00:00:00', '1998-05-03 00:01:00',\n",
       "               '1998-05-03 00:02:00'],\n",
       "              dtype='datetime64[ns]', freq='T')"
      ]
     },
     "execution_count": 19,
     "metadata": {},
     "output_type": "execute_result"
    }
   ],
   "source": [
    "pd.date_range(start=\"1998-05-03\",periods=3,freq='T') #minutes"
   ]
  },
  {
   "cell_type": "code",
   "execution_count": 20,
   "id": "43b7c9ac",
   "metadata": {},
   "outputs": [
    {
     "data": {
      "text/plain": [
       "DatetimeIndex(['1998-05-03 00:00:00', '1998-05-03 00:00:01',\n",
       "               '1998-05-03 00:00:02'],\n",
       "              dtype='datetime64[ns]', freq='S')"
      ]
     },
     "execution_count": 20,
     "metadata": {},
     "output_type": "execute_result"
    }
   ],
   "source": [
    "pd.date_range(start=\"1998-05-03\",periods=3,freq='S') #seconds"
   ]
  },
  {
   "cell_type": "code",
   "execution_count": 21,
   "id": "3816eb7f",
   "metadata": {},
   "outputs": [
    {
     "data": {
      "text/plain": [
       "DatetimeIndex(['1998-05-04', '1998-05-05', '1998-05-06'], dtype='datetime64[ns]', freq='B')"
      ]
     },
     "execution_count": 21,
     "metadata": {},
     "output_type": "execute_result"
    }
   ],
   "source": [
    "pd.date_range(start=\"1998-05-03\",periods=3,freq='B') #B-Business Days(Monday-Fridays)"
   ]
  },
  {
   "cell_type": "code",
   "execution_count": 22,
   "id": "8e3b35c7",
   "metadata": {},
   "outputs": [
    {
     "data": {
      "text/plain": [
       "DatetimeIndex(['1998-05-03 00:00:00', '1998-05-04 01:01:10',\n",
       "               '1998-05-05 02:02:20', '1998-05-06 03:03:30',\n",
       "               '1998-05-07 04:04:40'],\n",
       "              dtype='datetime64[ns]', freq='90070S')"
      ]
     },
     "execution_count": 22,
     "metadata": {},
     "output_type": "execute_result"
    }
   ],
   "source": [
    "pd.date_range(start=\"1998-05-03\",periods=5,freq='1d1h1min10s') #Combinations of days,hours"
   ]
  },
  {
   "cell_type": "code",
   "execution_count": 23,
   "id": "bab0c2fa",
   "metadata": {},
   "outputs": [
    {
     "data": {
      "text/plain": [
       "DatetimeIndex(['1998-05-08', '1998-05-15', '1998-05-22', '1998-05-29',\n",
       "               '1998-06-05'],\n",
       "              dtype='datetime64[ns]', freq='W-FRI')"
      ]
     },
     "execution_count": 23,
     "metadata": {},
     "output_type": "execute_result"
    }
   ],
   "source": [
    "pd.date_range(start=\"1998-05-03\",periods=5,freq='W-FRI')#where we have only Fridays"
   ]
  },
  {
   "cell_type": "code",
   "execution_count": 24,
   "id": "2c768d6a",
   "metadata": {},
   "outputs": [
    {
     "data": {
      "text/plain": [
       "DatetimeIndex(['1998-05-12', '1998-06-09', '1998-07-14', '1998-08-11',\n",
       "               '1998-09-08'],\n",
       "              dtype='datetime64[ns]', freq='WOM-2TUE')"
      ]
     },
     "execution_count": 24,
     "metadata": {},
     "output_type": "execute_result"
    }
   ],
   "source": [
    "pd.date_range(start=\"1998-05-03\",periods=5,freq='WOM-2TUE')#Second Tuesday Monthly"
   ]
  },
  {
   "cell_type": "code",
   "execution_count": 25,
   "id": "046600e3",
   "metadata": {},
   "outputs": [
    {
     "data": {
      "text/plain": [
       "DatetimeIndex(['1999-01-01', '1999-02-28', '2000-01-03', '2000-02-29',\n",
       "               '2001-01-01', '2001-02-28', '2002-01-01', '2002-02-28',\n",
       "               '2003-01-01', '2003-02-28'],\n",
       "              dtype='datetime64[ns]', freq=None)"
      ]
     },
     "execution_count": 25,
     "metadata": {},
     "output_type": "execute_result"
    }
   ],
   "source": [
    "s=pd.date_range(start=\"1998-05-03\",periods=5,freq='BAS-JAN') # First Business Days Annually for January\n",
    "t=pd.date_range(start=\"1998-05-03\",periods=5,freq='A-FEB') # last Anualy days of Feburary\n",
    "s.union(t)"
   ]
  },
  {
   "cell_type": "markdown",
   "id": "ac45490c",
   "metadata": {},
   "source": [
    "#### Simple plotting and Slicing dicing of Time Series"
   ]
  },
  {
   "cell_type": "code",
   "execution_count": 26,
   "id": "e6af53d1",
   "metadata": {},
   "outputs": [
    {
     "data": {
      "text/plain": [
       "<AxesSubplot:>"
      ]
     },
     "execution_count": 26,
     "metadata": {},
     "output_type": "execute_result"
    },
    {
     "data": {
      "image/png": "[encoded data removed]",
      "text/plain": [
       "<Figure size 432x288 with 1 Axes>"
      ]
     },
     "metadata": {
      "needs_background": "light"
     },
     "output_type": "display_data"
    }
   ],
   "source": [
    "index=pd.date_range(start=\"2000-01-01\",periods=200,freq='B')\n",
    "ts=pd.Series(np.random.randn(len(index)),index=index)\n",
    "walk=ts.cumsum()\n",
    "walk.plot()"
   ]
  },
  {
   "cell_type": "code",
   "execution_count": 27,
   "id": "564bcf05",
   "metadata": {},
   "outputs": [
    {
     "data": {
      "text/plain": [
       "2000-01-03    0.374520\n",
       "2000-01-04    1.226967\n",
       "2000-01-05   -0.015580\n",
       "2000-01-06   -0.830900\n",
       "2000-01-07   -0.491722\n",
       "Freq: B, dtype: float64"
      ]
     },
     "execution_count": 27,
     "metadata": {},
     "output_type": "execute_result"
    }
   ],
   "source": [
    "ts.head()"
   ]
  },
  {
   "cell_type": "code",
   "execution_count": 28,
   "id": "62448fdf",
   "metadata": {},
   "outputs": [
    {
     "data": {
      "text/plain": [
       "0.37452049437139934"
      ]
     },
     "execution_count": 28,
     "metadata": {},
     "output_type": "execute_result"
    }
   ],
   "source": [
    "ts[0]"
   ]
  },
  {
   "cell_type": "code",
   "execution_count": 29,
   "id": "ccb809f3",
   "metadata": {},
   "outputs": [
    {
     "data": {
      "text/plain": [
       "1.2269665501968754"
      ]
     },
     "execution_count": 29,
     "metadata": {},
     "output_type": "execute_result"
    }
   ],
   "source": [
    "ts['2000-01-04']"
   ]
  },
  {
   "cell_type": "code",
   "execution_count": 30,
   "id": "65083888",
   "metadata": {},
   "outputs": [
    {
     "data": {
      "text/plain": [
       "0.37452049437139934"
      ]
     },
     "execution_count": 30,
     "metadata": {},
     "output_type": "execute_result"
    }
   ],
   "source": [
    "ts[datetime.datetime(2000,1,3)]"
   ]
  },
  {
   "cell_type": "code",
   "execution_count": 31,
   "id": "973165a2",
   "metadata": {},
   "outputs": [
    {
     "data": {
      "text/plain": [
       "2000-01-03    0.374520\n",
       "2000-01-04    1.226967\n",
       "Freq: B, dtype: float64"
      ]
     },
     "execution_count": 31,
     "metadata": {},
     "output_type": "execute_result"
    }
   ],
   "source": [
    "ts['2000-01-03':'2000-01-04']"
   ]
  },
  {
   "cell_type": "code",
   "execution_count": 32,
   "id": "b4613f3d",
   "metadata": {},
   "outputs": [
    {
     "data": {
      "text/plain": [
       "2000-01-03    0.37452\n",
       "Freq: B, dtype: float64"
      ]
     },
     "execution_count": 32,
     "metadata": {},
     "output_type": "execute_result"
    }
   ],
   "source": [
    "ts['2000-01-03':datetime.datetime(2000,1,3)]"
   ]
  },
  {
   "cell_type": "code",
   "execution_count": 33,
   "id": "a9cdd20b",
   "metadata": {},
   "outputs": [
    {
     "data": {
      "text/plain": [
       "2000-01-03    0.374520\n",
       "2000-01-04    1.226967\n",
       "2000-01-05   -0.015580\n",
       "2000-01-06   -0.830900\n",
       "2000-01-07   -0.491722\n",
       "                ...   \n",
       "2000-05-25   -0.971603\n",
       "2000-05-26    0.036057\n",
       "2000-05-29    0.306601\n",
       "2000-05-30   -0.429874\n",
       "2000-05-31    0.667285\n",
       "Freq: B, Length: 108, dtype: float64"
      ]
     },
     "execution_count": 33,
     "metadata": {},
     "output_type": "execute_result"
    }
   ],
   "source": [
    "ts['2000-01':'2000-05']"
   ]
  },
  {
   "cell_type": "code",
   "execution_count": 34,
   "id": "4f66093f",
   "metadata": {},
   "outputs": [
    {
     "data": {
      "text/plain": [
       "2000-01-03    0.374520\n",
       "2000-01-04    1.226967\n",
       "2000-01-05   -0.015580\n",
       "2000-01-06   -0.830900\n",
       "2000-01-07   -0.491722\n",
       "2000-01-10   -1.352779\n",
       "2000-01-11   -0.928559\n",
       "2000-01-12   -1.038916\n",
       "2000-01-13   -1.047846\n",
       "2000-01-14   -1.400093\n",
       "2000-01-17   -2.276751\n",
       "2000-01-18    0.961086\n",
       "2000-01-19   -0.796540\n",
       "2000-01-20    0.446360\n",
       "2000-01-21   -1.383787\n",
       "2000-01-24   -0.199330\n",
       "2000-01-25   -0.732108\n",
       "2000-01-26   -1.334910\n",
       "2000-01-27    1.188446\n",
       "2000-01-28   -0.784395\n",
       "2000-01-31    0.416833\n",
       "Freq: B, dtype: float64"
      ]
     },
     "execution_count": 34,
     "metadata": {},
     "output_type": "execute_result"
    }
   ],
   "source": [
    "ts['2000-01']"
   ]
  },
  {
   "cell_type": "code",
   "execution_count": 35,
   "id": "055d4743",
   "metadata": {},
   "outputs": [
    {
     "data": {
      "text/plain": [
       "2000-02-01   -1.133091\n",
       "2000-02-02   -0.370776\n",
       "2000-02-03   -1.335410\n",
       "2000-02-04    1.517681\n",
       "Freq: B, dtype: float64"
      ]
     },
     "execution_count": 35,
     "metadata": {},
     "output_type": "execute_result"
    }
   ],
   "source": [
    "small_ts=ts[\"2000-02-01\":\"2000-02-04\"]\n",
    "small_ts"
   ]
  },
  {
   "cell_type": "code",
   "execution_count": 36,
   "id": "195b2468",
   "metadata": {},
   "outputs": [
    {
     "data": {
      "text/plain": [
       "2000-02-01         NaN\n",
       "2000-02-02         NaN\n",
       "2000-02-03   -1.133091\n",
       "2000-02-04   -0.370776\n",
       "Freq: B, dtype: float64"
      ]
     },
     "execution_count": 36,
     "metadata": {},
     "output_type": "execute_result"
    }
   ],
   "source": [
    "#shift all the value by 2 units down\n",
    "\n",
    "small_ts.shift(2)"
   ]
  },
  {
   "cell_type": "code",
   "execution_count": 37,
   "id": "55b64a5e",
   "metadata": {},
   "outputs": [
    {
     "data": {
      "text/plain": [
       "2000-02-01   -1.335410\n",
       "2000-02-02    1.517681\n",
       "2000-02-03         NaN\n",
       "2000-02-04         NaN\n",
       "Freq: B, dtype: float64"
      ]
     },
     "execution_count": 37,
     "metadata": {},
     "output_type": "execute_result"
    }
   ],
   "source": [
    "#shift all the value by 2 units down\n",
    "\n",
    "small_ts.shift(-2)"
   ]
  },
  {
   "cell_type": "markdown",
   "id": "4b2ede51",
   "metadata": {},
   "source": [
    "#### Passenger Count Time Series"
   ]
  },
  {
   "cell_type": "code",
   "execution_count": 38,
   "id": "dd6d840c",
   "metadata": {},
   "outputs": [],
   "source": [
    "train=pd.read_csv(\"train_data.csv\",date_parser=['Date'])"
   ]
  },
  {
   "cell_type": "code",
   "execution_count": 39,
   "id": "f04259be",
   "metadata": {},
   "outputs": [
    {
     "data": {
      "text/html": [
       "<div>\n",
       "<style scoped>\n",
       "    .dataframe tbody tr th:only-of-type {\n",
       "        vertical-align: middle;\n",
       "    }\n",
       "\n",
       "    .dataframe tbody tr th {\n",
       "        vertical-align: top;\n",
       "    }\n",
       "\n",
       "    .dataframe thead th {\n",
       "        text-align: right;\n",
       "    }\n",
       "</style>\n",
       "<table border=\"1\" class=\"dataframe\">\n",
       "  <thead>\n",
       "    <tr style=\"text-align: right;\">\n",
       "      <th></th>\n",
       "      <th>Date</th>\n",
       "      <th>count</th>\n",
       "    </tr>\n",
       "  </thead>\n",
       "  <tbody>\n",
       "    <tr>\n",
       "      <th>0</th>\n",
       "      <td>2012-08-25</td>\n",
       "      <td>3</td>\n",
       "    </tr>\n",
       "    <tr>\n",
       "      <th>1</th>\n",
       "      <td>2012-08-26</td>\n",
       "      <td>3</td>\n",
       "    </tr>\n",
       "    <tr>\n",
       "      <th>2</th>\n",
       "      <td>2012-08-27</td>\n",
       "      <td>2</td>\n",
       "    </tr>\n",
       "    <tr>\n",
       "      <th>3</th>\n",
       "      <td>2012-08-28</td>\n",
       "      <td>2</td>\n",
       "    </tr>\n",
       "    <tr>\n",
       "      <th>4</th>\n",
       "      <td>2012-08-29</td>\n",
       "      <td>2</td>\n",
       "    </tr>\n",
       "  </tbody>\n",
       "</table>\n",
       "</div>"
      ],
      "text/plain": [
       "         Date  count\n",
       "0  2012-08-25      3\n",
       "1  2012-08-26      3\n",
       "2  2012-08-27      2\n",
       "3  2012-08-28      2\n",
       "4  2012-08-29      2"
      ]
     },
     "execution_count": 39,
     "metadata": {},
     "output_type": "execute_result"
    }
   ],
   "source": [
    "train.head()"
   ]
  },
  {
   "cell_type": "code",
   "execution_count": 40,
   "id": "78551003",
   "metadata": {},
   "outputs": [
    {
     "name": "stdout",
     "output_type": "stream",
     "text": [
      "<class 'pandas.core.frame.DataFrame'>\n",
      "RangeIndex: 578 entries, 0 to 577\n",
      "Data columns (total 2 columns):\n",
      " #   Column  Non-Null Count  Dtype \n",
      "---  ------  --------------  ----- \n",
      " 0   Date    578 non-null    object\n",
      " 1   count   578 non-null    int64 \n",
      "dtypes: int64(1), object(1)\n",
      "memory usage: 9.2+ KB\n"
     ]
    }
   ],
   "source": [
    "train.info()"
   ]
  },
  {
   "cell_type": "code",
   "execution_count": 41,
   "id": "7b216d44",
   "metadata": {},
   "outputs": [],
   "source": [
    "## Set the index to be datetime\n",
    "\n",
    "train=train.set_index(pd.DatetimeIndex(train['Date']))"
   ]
  },
  {
   "cell_type": "code",
   "execution_count": 43,
   "id": "5d752bfb",
   "metadata": {},
   "outputs": [
    {
     "data": {
      "text/html": [
       "<div>\n",
       "<style scoped>\n",
       "    .dataframe tbody tr th:only-of-type {\n",
       "        vertical-align: middle;\n",
       "    }\n",
       "\n",
       "    .dataframe tbody tr th {\n",
       "        vertical-align: top;\n",
       "    }\n",
       "\n",
       "    .dataframe thead th {\n",
       "        text-align: right;\n",
       "    }\n",
       "</style>\n",
       "<table border=\"1\" class=\"dataframe\">\n",
       "  <thead>\n",
       "    <tr style=\"text-align: right;\">\n",
       "      <th></th>\n",
       "      <th>Date</th>\n",
       "      <th>count</th>\n",
       "    </tr>\n",
       "    <tr>\n",
       "      <th>Date</th>\n",
       "      <th></th>\n",
       "      <th></th>\n",
       "    </tr>\n",
       "  </thead>\n",
       "  <tbody>\n",
       "    <tr>\n",
       "      <th>2012-08-25</th>\n",
       "      <td>2012-08-25</td>\n",
       "      <td>3</td>\n",
       "    </tr>\n",
       "    <tr>\n",
       "      <th>2012-08-26</th>\n",
       "      <td>2012-08-26</td>\n",
       "      <td>3</td>\n",
       "    </tr>\n",
       "    <tr>\n",
       "      <th>2012-08-27</th>\n",
       "      <td>2012-08-27</td>\n",
       "      <td>2</td>\n",
       "    </tr>\n",
       "    <tr>\n",
       "      <th>2012-08-28</th>\n",
       "      <td>2012-08-28</td>\n",
       "      <td>2</td>\n",
       "    </tr>\n",
       "    <tr>\n",
       "      <th>2012-08-29</th>\n",
       "      <td>2012-08-29</td>\n",
       "      <td>2</td>\n",
       "    </tr>\n",
       "  </tbody>\n",
       "</table>\n",
       "</div>"
      ],
      "text/plain": [
       "                  Date  count\n",
       "Date                         \n",
       "2012-08-25  2012-08-25      3\n",
       "2012-08-26  2012-08-26      3\n",
       "2012-08-27  2012-08-27      2\n",
       "2012-08-28  2012-08-28      2\n",
       "2012-08-29  2012-08-29      2"
      ]
     },
     "execution_count": 43,
     "metadata": {},
     "output_type": "execute_result"
    }
   ],
   "source": [
    "train.head()"
   ]
  },
  {
   "cell_type": "code",
   "execution_count": 44,
   "id": "f602476a",
   "metadata": {},
   "outputs": [
    {
     "data": {
      "text/plain": [
       "<AxesSubplot:xlabel='Date'>"
      ]
     },
     "execution_count": 44,
     "metadata": {},
     "output_type": "execute_result"
    },
    {
     "data": {
      "image/png": "[encoded data removed]",
      "text/plain": [
       "<Figure size 864x576 with 1 Axes>"
      ]
     },
     "metadata": {
      "needs_background": "light"
     },
     "output_type": "display_data"
    }
   ],
   "source": [
    "plt.figure(figsize=(12,8))\n",
    "train['count'].plot()"
   ]
  },
  {
   "cell_type": "markdown",
   "id": "6b475eaa",
   "metadata": {},
   "source": [
    "#### Resampling"
   ]
  },
  {
   "cell_type": "code",
   "execution_count": 45,
   "id": "2c5980d0",
   "metadata": {},
   "outputs": [],
   "source": [
    "# We have data at daily level and we want to downsample it at weekly level\n",
    "\n",
    "weekly_data=train.resample('w').mean()"
   ]
  },
  {
   "cell_type": "code",
   "execution_count": 46,
   "id": "178f91ed",
   "metadata": {},
   "outputs": [
    {
     "name": "stdout",
     "output_type": "stream",
     "text": [
      "(84, 1)\n"
     ]
    },
    {
     "data": {
      "text/html": [
       "<div>\n",
       "<style scoped>\n",
       "    .dataframe tbody tr th:only-of-type {\n",
       "        vertical-align: middle;\n",
       "    }\n",
       "\n",
       "    .dataframe tbody tr th {\n",
       "        vertical-align: top;\n",
       "    }\n",
       "\n",
       "    .dataframe thead th {\n",
       "        text-align: right;\n",
       "    }\n",
       "</style>\n",
       "<table border=\"1\" class=\"dataframe\">\n",
       "  <thead>\n",
       "    <tr style=\"text-align: right;\">\n",
       "      <th></th>\n",
       "      <th>count</th>\n",
       "    </tr>\n",
       "    <tr>\n",
       "      <th>Date</th>\n",
       "      <th></th>\n",
       "    </tr>\n",
       "  </thead>\n",
       "  <tbody>\n",
       "    <tr>\n",
       "      <th>2012-08-26</th>\n",
       "      <td>3.000000</td>\n",
       "    </tr>\n",
       "    <tr>\n",
       "      <th>2012-09-02</th>\n",
       "      <td>2.857143</td>\n",
       "    </tr>\n",
       "    <tr>\n",
       "      <th>2012-09-09</th>\n",
       "      <td>3.142857</td>\n",
       "    </tr>\n",
       "    <tr>\n",
       "      <th>2012-09-16</th>\n",
       "      <td>2.571429</td>\n",
       "    </tr>\n",
       "    <tr>\n",
       "      <th>2012-09-23</th>\n",
       "      <td>4.142857</td>\n",
       "    </tr>\n",
       "  </tbody>\n",
       "</table>\n",
       "</div>"
      ],
      "text/plain": [
       "               count\n",
       "Date                \n",
       "2012-08-26  3.000000\n",
       "2012-09-02  2.857143\n",
       "2012-09-09  3.142857\n",
       "2012-09-16  2.571429\n",
       "2012-09-23  4.142857"
      ]
     },
     "execution_count": 46,
     "metadata": {},
     "output_type": "execute_result"
    }
   ],
   "source": [
    "print(weekly_data.shape)\n",
    "weekly_data.head()"
   ]
  },
  {
   "cell_type": "code",
   "execution_count": 47,
   "id": "410b36e0",
   "metadata": {},
   "outputs": [
    {
     "data": {
      "text/plain": [
       "<AxesSubplot:xlabel='Date'>"
      ]
     },
     "execution_count": 47,
     "metadata": {},
     "output_type": "execute_result"
    },
    {
     "data": {
      "image/png": "[encoded data removed]",
      "text/plain": [
       "<Figure size 432x288 with 1 Axes>"
      ]
     },
     "metadata": {
      "needs_background": "light"
     },
     "output_type": "display_data"
    }
   ],
   "source": [
    "weekly_data.plot()"
   ]
  },
  {
   "cell_type": "code",
   "execution_count": 48,
   "id": "6aea6a3c",
   "metadata": {},
   "outputs": [
    {
     "data": {
      "text/html": [
       "<div>\n",
       "<style scoped>\n",
       "    .dataframe tbody tr th:only-of-type {\n",
       "        vertical-align: middle;\n",
       "    }\n",
       "\n",
       "    .dataframe tbody tr th {\n",
       "        vertical-align: top;\n",
       "    }\n",
       "\n",
       "    .dataframe thead th {\n",
       "        text-align: right;\n",
       "    }\n",
       "</style>\n",
       "<table border=\"1\" class=\"dataframe\">\n",
       "  <thead>\n",
       "    <tr style=\"text-align: right;\">\n",
       "      <th></th>\n",
       "      <th>Date</th>\n",
       "      <th>count</th>\n",
       "    </tr>\n",
       "    <tr>\n",
       "      <th>Date</th>\n",
       "      <th></th>\n",
       "      <th></th>\n",
       "    </tr>\n",
       "  </thead>\n",
       "  <tbody>\n",
       "    <tr>\n",
       "      <th>2012-08-25</th>\n",
       "      <td>2012-08-25</td>\n",
       "      <td>3</td>\n",
       "    </tr>\n",
       "    <tr>\n",
       "      <th>2012-08-26</th>\n",
       "      <td>2012-08-26</td>\n",
       "      <td>3</td>\n",
       "    </tr>\n",
       "    <tr>\n",
       "      <th>2012-08-27</th>\n",
       "      <td>2012-08-27</td>\n",
       "      <td>2</td>\n",
       "    </tr>\n",
       "    <tr>\n",
       "      <th>2012-08-28</th>\n",
       "      <td>2012-08-28</td>\n",
       "      <td>2</td>\n",
       "    </tr>\n",
       "    <tr>\n",
       "      <th>2012-08-29</th>\n",
       "      <td>2012-08-29</td>\n",
       "      <td>2</td>\n",
       "    </tr>\n",
       "    <tr>\n",
       "      <th>2012-08-30</th>\n",
       "      <td>2012-08-30</td>\n",
       "      <td>3</td>\n",
       "    </tr>\n",
       "    <tr>\n",
       "      <th>2012-08-31</th>\n",
       "      <td>2012-08-31</td>\n",
       "      <td>3</td>\n",
       "    </tr>\n",
       "    <tr>\n",
       "      <th>2012-09-01</th>\n",
       "      <td>2012-09-01</td>\n",
       "      <td>4</td>\n",
       "    </tr>\n",
       "    <tr>\n",
       "      <th>2012-09-02</th>\n",
       "      <td>2012-09-02</td>\n",
       "      <td>4</td>\n",
       "    </tr>\n",
       "    <tr>\n",
       "      <th>2012-09-03</th>\n",
       "      <td>2012-09-03</td>\n",
       "      <td>4</td>\n",
       "    </tr>\n",
       "    <tr>\n",
       "      <th>2012-09-04</th>\n",
       "      <td>2012-09-04</td>\n",
       "      <td>2</td>\n",
       "    </tr>\n",
       "    <tr>\n",
       "      <th>2012-09-05</th>\n",
       "      <td>2012-09-05</td>\n",
       "      <td>4</td>\n",
       "    </tr>\n",
       "    <tr>\n",
       "      <th>2012-09-06</th>\n",
       "      <td>2012-09-06</td>\n",
       "      <td>4</td>\n",
       "    </tr>\n",
       "    <tr>\n",
       "      <th>2012-09-07</th>\n",
       "      <td>2012-09-07</td>\n",
       "      <td>2</td>\n",
       "    </tr>\n",
       "    <tr>\n",
       "      <th>2012-09-08</th>\n",
       "      <td>2012-09-08</td>\n",
       "      <td>4</td>\n",
       "    </tr>\n",
       "    <tr>\n",
       "      <th>2012-09-09</th>\n",
       "      <td>2012-09-09</td>\n",
       "      <td>2</td>\n",
       "    </tr>\n",
       "    <tr>\n",
       "      <th>2012-09-10</th>\n",
       "      <td>2012-09-10</td>\n",
       "      <td>2</td>\n",
       "    </tr>\n",
       "    <tr>\n",
       "      <th>2012-09-11</th>\n",
       "      <td>2012-09-11</td>\n",
       "      <td>2</td>\n",
       "    </tr>\n",
       "    <tr>\n",
       "      <th>2012-09-12</th>\n",
       "      <td>2012-09-12</td>\n",
       "      <td>3</td>\n",
       "    </tr>\n",
       "    <tr>\n",
       "      <th>2012-09-13</th>\n",
       "      <td>2012-09-13</td>\n",
       "      <td>3</td>\n",
       "    </tr>\n",
       "  </tbody>\n",
       "</table>\n",
       "</div>"
      ],
      "text/plain": [
       "                  Date  count\n",
       "Date                         \n",
       "2012-08-25  2012-08-25      3\n",
       "2012-08-26  2012-08-26      3\n",
       "2012-08-27  2012-08-27      2\n",
       "2012-08-28  2012-08-28      2\n",
       "2012-08-29  2012-08-29      2\n",
       "2012-08-30  2012-08-30      3\n",
       "2012-08-31  2012-08-31      3\n",
       "2012-09-01  2012-09-01      4\n",
       "2012-09-02  2012-09-02      4\n",
       "2012-09-03  2012-09-03      4\n",
       "2012-09-04  2012-09-04      2\n",
       "2012-09-05  2012-09-05      4\n",
       "2012-09-06  2012-09-06      4\n",
       "2012-09-07  2012-09-07      2\n",
       "2012-09-08  2012-09-08      4\n",
       "2012-09-09  2012-09-09      2\n",
       "2012-09-10  2012-09-10      2\n",
       "2012-09-11  2012-09-11      2\n",
       "2012-09-12  2012-09-12      3\n",
       "2012-09-13  2012-09-13      3"
      ]
     },
     "execution_count": 48,
     "metadata": {},
     "output_type": "execute_result"
    }
   ],
   "source": [
    "train.head(20)"
   ]
  },
  {
   "cell_type": "code",
   "execution_count": 49,
   "id": "6cb47554",
   "metadata": {},
   "outputs": [
    {
     "data": {
      "text/html": [
       "<div>\n",
       "<style scoped>\n",
       "    .dataframe tbody tr th:only-of-type {\n",
       "        vertical-align: middle;\n",
       "    }\n",
       "\n",
       "    .dataframe tbody tr th {\n",
       "        vertical-align: top;\n",
       "    }\n",
       "\n",
       "    .dataframe thead th {\n",
       "        text-align: right;\n",
       "    }\n",
       "</style>\n",
       "<table border=\"1\" class=\"dataframe\">\n",
       "  <thead>\n",
       "    <tr style=\"text-align: right;\">\n",
       "      <th></th>\n",
       "      <th>Date</th>\n",
       "      <th>count</th>\n",
       "    </tr>\n",
       "    <tr>\n",
       "      <th>Date</th>\n",
       "      <th></th>\n",
       "      <th></th>\n",
       "    </tr>\n",
       "  </thead>\n",
       "  <tbody>\n",
       "    <tr>\n",
       "      <th>2012-08-25 00:00:00</th>\n",
       "      <td>2012-08-25</td>\n",
       "      <td>3</td>\n",
       "    </tr>\n",
       "    <tr>\n",
       "      <th>2012-08-25 01:00:00</th>\n",
       "      <td>2012-08-25</td>\n",
       "      <td>3</td>\n",
       "    </tr>\n",
       "    <tr>\n",
       "      <th>2012-08-25 02:00:00</th>\n",
       "      <td>2012-08-25</td>\n",
       "      <td>3</td>\n",
       "    </tr>\n",
       "    <tr>\n",
       "      <th>2012-08-25 03:00:00</th>\n",
       "      <td>2012-08-25</td>\n",
       "      <td>3</td>\n",
       "    </tr>\n",
       "    <tr>\n",
       "      <th>2012-08-25 04:00:00</th>\n",
       "      <td>2012-08-25</td>\n",
       "      <td>3</td>\n",
       "    </tr>\n",
       "  </tbody>\n",
       "</table>\n",
       "</div>"
      ],
      "text/plain": [
       "                           Date  count\n",
       "Date                                  \n",
       "2012-08-25 00:00:00  2012-08-25      3\n",
       "2012-08-25 01:00:00  2012-08-25      3\n",
       "2012-08-25 02:00:00  2012-08-25      3\n",
       "2012-08-25 03:00:00  2012-08-25      3\n",
       "2012-08-25 04:00:00  2012-08-25      3"
      ]
     },
     "execution_count": 49,
     "metadata": {},
     "output_type": "execute_result"
    }
   ],
   "source": [
    "#upsampling---> daily to hourly\n",
    "\n",
    "train.resample('H').ffill().head() #ffill is forward fill function"
   ]
  },
  {
   "cell_type": "code",
   "execution_count": 52,
   "id": "97f3097b",
   "metadata": {},
   "outputs": [],
   "source": [
    "# or we can use interpolate function instead of ffill\n",
    "\n",
    "hourly_data=train.resample('H').interpolate().head(50)"
   ]
  },
  {
   "cell_type": "code",
   "execution_count": 53,
   "id": "62995818",
   "metadata": {},
   "outputs": [
    {
     "data": {
      "text/plain": [
       "<AxesSubplot:xlabel='Date'>"
      ]
     },
     "execution_count": 53,
     "metadata": {},
     "output_type": "execute_result"
    },
    {
     "data": {
      "text/plain": [
       "<Figure size 576x288 with 0 Axes>"
      ]
     },
     "metadata": {},
     "output_type": "display_data"
    },
    {
     "data": {
      "image/png": "[encoded data removed]",
      "text/plain": [
       "<Figure size 432x288 with 1 Axes>"
      ]
     },
     "metadata": {
      "needs_background": "light"
     },
     "output_type": "display_data"
    },
    {
     "data": {
      "image/png": "[encoded data removed]",
      "text/plain": [
       "<Figure size 432x288 with 1 Axes>"
      ]
     },
     "metadata": {
      "needs_background": "light"
     },
     "output_type": "display_data"
    },
    {
     "data": {
      "image/png": "[encoded data removed]",
      "text/plain": [
       "<Figure size 432x288 with 1 Axes>"
      ]
     },
     "metadata": {
      "needs_background": "light"
     },
     "output_type": "display_data"
    }
   ],
   "source": [
    "plt.figure(figsize=(8,4))\n",
    "\n",
    "train.plot()\n",
    "weekly_data.plot()\n",
    "hourly_data.plot()"
   ]
  },
  {
   "cell_type": "markdown",
   "id": "8a9fa554",
   "metadata": {},
   "source": [
    "#### TimeZones"
   ]
  },
  {
   "cell_type": "code",
   "execution_count": 54,
   "id": "cfeae12e",
   "metadata": {},
   "outputs": [],
   "source": [
    "t=pd.Timestamp('2000-01-01')"
   ]
  },
  {
   "cell_type": "code",
   "execution_count": 55,
   "id": "8afd94e4",
   "metadata": {},
   "outputs": [
    {
     "data": {
      "text/plain": [
       "True"
      ]
     },
     "execution_count": 55,
     "metadata": {},
     "output_type": "execute_result"
    }
   ],
   "source": [
    "t.tz is None"
   ]
  },
  {
   "cell_type": "code",
   "execution_count": 56,
   "id": "e0a198a7",
   "metadata": {},
   "outputs": [],
   "source": [
    "t=pd.Timestamp('2000-01-01',tz='Africa/Johannesburg')"
   ]
  },
  {
   "cell_type": "code",
   "execution_count": 57,
   "id": "87f77be9",
   "metadata": {},
   "outputs": [
    {
     "data": {
      "text/plain": [
       "<DstTzInfo 'Africa/Johannesburg' SAST+2:00:00 STD>"
      ]
     },
     "execution_count": 57,
     "metadata": {},
     "output_type": "execute_result"
    }
   ],
   "source": [
    "t.tz"
   ]
  },
  {
   "cell_type": "code",
   "execution_count": 58,
   "id": "a884ec5f",
   "metadata": {},
   "outputs": [],
   "source": [
    "rng=pd.date_range('1/1/2000',periods=10,freq='D',tz='Europe/London')"
   ]
  },
  {
   "cell_type": "code",
   "execution_count": 59,
   "id": "a740c876",
   "metadata": {},
   "outputs": [
    {
     "data": {
      "text/plain": [
       "DatetimeIndex(['2000-01-01 00:00:00+00:00', '2000-01-02 00:00:00+00:00',\n",
       "               '2000-01-03 00:00:00+00:00', '2000-01-04 00:00:00+00:00',\n",
       "               '2000-01-05 00:00:00+00:00', '2000-01-06 00:00:00+00:00',\n",
       "               '2000-01-07 00:00:00+00:00', '2000-01-08 00:00:00+00:00',\n",
       "               '2000-01-09 00:00:00+00:00', '2000-01-10 00:00:00+00:00'],\n",
       "              dtype='datetime64[ns, Europe/London]', freq='D')"
      ]
     },
     "execution_count": 59,
     "metadata": {},
     "output_type": "execute_result"
    }
   ],
   "source": [
    "rng"
   ]
  },
  {
   "cell_type": "code",
   "execution_count": 65,
   "id": "7f5819a9",
   "metadata": {},
   "outputs": [
    {
     "data": {
      "text/plain": [
       "True"
      ]
     },
     "execution_count": 65,
     "metadata": {},
     "output_type": "execute_result"
    }
   ],
   "source": [
    "rng=pd.date_range('1/1/2000 00:00',periods=10,freq='D')\n",
    "ts=pd.Series(np.random.randn(len(rng)),rng)\n",
    "ts.index.tz is None"
   ]
  },
  {
   "cell_type": "code",
   "execution_count": 66,
   "id": "241a945f",
   "metadata": {},
   "outputs": [
    {
     "data": {
      "text/plain": [
       "2000-01-01   -0.226471\n",
       "2000-01-02   -1.152292\n",
       "2000-01-03    2.194156\n",
       "2000-01-04    0.208295\n",
       "2000-01-05   -1.051054\n",
       "2000-01-06   -0.318056\n",
       "2000-01-07   -0.591504\n",
       "2000-01-08    1.643216\n",
       "2000-01-09    0.011540\n",
       "2000-01-10    0.462911\n",
       "Freq: D, dtype: float64"
      ]
     },
     "execution_count": 66,
     "metadata": {},
     "output_type": "execute_result"
    }
   ],
   "source": [
    "ts"
   ]
  },
  {
   "cell_type": "code",
   "execution_count": 67,
   "id": "131c9718",
   "metadata": {},
   "outputs": [
    {
     "data": {
      "text/plain": [
       "<UTC>"
      ]
     },
     "execution_count": 67,
     "metadata": {},
     "output_type": "execute_result"
    }
   ],
   "source": [
    "ts_utc=ts.tz_localize('UTC')\n",
    "ts_utc.index.tz"
   ]
  },
  {
   "cell_type": "code",
   "execution_count": 64,
   "id": "9b149dcc",
   "metadata": {},
   "outputs": [
    {
     "data": {
      "text/plain": [
       "2000-01-01 00:00:00+00:00    1.007988\n",
       "2000-01-02 00:00:00+00:00   -0.945770\n",
       "2000-01-03 00:00:00+00:00    1.557340\n",
       "2000-01-04 00:00:00+00:00    1.689010\n",
       "2000-01-05 00:00:00+00:00    0.106110\n",
       "2000-01-06 00:00:00+00:00   -1.604132\n",
       "2000-01-07 00:00:00+00:00   -1.103911\n",
       "2000-01-08 00:00:00+00:00   -1.464793\n",
       "2000-01-09 00:00:00+00:00   -1.645075\n",
       "2000-01-10 00:00:00+00:00   -0.728591\n",
       "Freq: D, dtype: float64"
      ]
     },
     "execution_count": 64,
     "metadata": {},
     "output_type": "execute_result"
    }
   ],
   "source": [
    "ts_utc"
   ]
  },
  {
   "cell_type": "code",
   "execution_count": 68,
   "id": "a0413ef8",
   "metadata": {},
   "outputs": [
    {
     "data": {
      "text/plain": [
       "<DstTzInfo 'Europe/Berlin' LMT+0:53:00 STD>"
      ]
     },
     "execution_count": 68,
     "metadata": {},
     "output_type": "execute_result"
    }
   ],
   "source": [
    "#convert it from 1 timezone to another timezone\n",
    "\n",
    "ts_utc.tz_convert('Europe/Berlin').index.tz"
   ]
  },
  {
   "cell_type": "code",
   "execution_count": 69,
   "id": "99fad359",
   "metadata": {},
   "outputs": [
    {
     "data": {
      "text/plain": [
       "True"
      ]
     },
     "execution_count": 69,
     "metadata": {},
     "output_type": "execute_result"
    }
   ],
   "source": [
    "#to detach from any time zone\n",
    "\n",
    "ts_utc.tz_convert(None).index.tz is None"
   ]
  },
  {
   "cell_type": "markdown",
   "id": "760d0cb6",
   "metadata": {},
   "source": [
    "###### Time Delta "
   ]
  },
  {
   "cell_type": "code",
   "execution_count": 70,
   "id": "aa8f9ee8",
   "metadata": {},
   "outputs": [],
   "source": [
    "#used to perform basic operation with time series"
   ]
  },
  {
   "cell_type": "code",
   "execution_count": 71,
   "id": "b116ae2e",
   "metadata": {},
   "outputs": [
    {
     "data": {
      "text/plain": [
       "Timedelta('1 days 00:00:00')"
      ]
     },
     "execution_count": 71,
     "metadata": {},
     "output_type": "execute_result"
    }
   ],
   "source": [
    "pd.Timedelta('1 Days')"
   ]
  },
  {
   "cell_type": "code",
   "execution_count": 72,
   "id": "e80aacec",
   "metadata": {},
   "outputs": [
    {
     "data": {
      "text/plain": [
       "Timedelta('-2 days +23:57:49.999997')"
      ]
     },
     "execution_count": 72,
     "metadata": {},
     "output_type": "execute_result"
    }
   ],
   "source": [
    "pd.Timedelta('-1 Days 2 min 10s 3us')"
   ]
  },
  {
   "cell_type": "code",
   "execution_count": 73,
   "id": "cbcdf309",
   "metadata": {},
   "outputs": [
    {
     "data": {
      "text/plain": [
       "Timedelta('-1 days +00:00:00')"
      ]
     },
     "execution_count": 73,
     "metadata": {},
     "output_type": "execute_result"
    }
   ],
   "source": [
    "pd.Timedelta('-1 Days')"
   ]
  },
  {
   "cell_type": "code",
   "execution_count": 74,
   "id": "e823b91c",
   "metadata": {},
   "outputs": [
    {
     "data": {
      "text/plain": [
       "Timedelta('1 days 00:00:01')"
      ]
     },
     "execution_count": 74,
     "metadata": {},
     "output_type": "execute_result"
    }
   ],
   "source": [
    "pd.Timedelta(days=1,seconds=1)"
   ]
  },
  {
   "cell_type": "code",
   "execution_count": 76,
   "id": "127cbea7",
   "metadata": {},
   "outputs": [
    {
     "data": {
      "text/plain": [
       "Timedelta('1 days 00:01:00')"
      ]
     },
     "execution_count": 76,
     "metadata": {},
     "output_type": "execute_result"
    }
   ],
   "source": [
    "pd.Timedelta(days=1)+pd.Timedelta(seconds=60)"
   ]
  },
  {
   "cell_type": "code",
   "execution_count": 77,
   "id": "68df8de5",
   "metadata": {},
   "outputs": [
    {
     "data": {
      "text/plain": [
       "Timedelta('0 days 00:00:20.100000')"
      ]
     },
     "execution_count": 77,
     "metadata": {},
     "output_type": "execute_result"
    }
   ],
   "source": [
    "pd.Timedelta('20.1s')"
   ]
  },
  {
   "cell_type": "code",
   "execution_count": null,
   "id": "23929eb5",
   "metadata": {},
   "outputs": [],
   "source": []
  }
 ],
 "metadata": {
  "kernelspec": {
   "display_name": "Python 3 (ipykernel)",
   "language": "python",
   "name": "python3"
  },
  "language_info": {
   "codemirror_mode": {
    "name": "ipython",
    "version": 3
   },
   "file_extension": ".py",
   "mimetype": "text/x-python",
   "name": "python",
   "nbconvert_exporter": "python",
   "pygments_lexer": "ipython3",
   "version": "3.9.12"
  }
 },
 "nbformat": 4,
 "nbformat_minor": 5
}
